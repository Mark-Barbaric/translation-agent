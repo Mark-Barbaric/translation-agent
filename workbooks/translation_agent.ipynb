{
 "cells": [
  {
   "cell_type": "markdown",
   "metadata": {},
   "source": [
    "# Translation Agent Workbook\n",
    "\n",
    "The purpose of this workbook is to experiment with the prompts used by the various agents within the translation-agent package."
   ]
  },
  {
   "cell_type": "markdown",
   "metadata": {},
   "source": [
    "## Lib Imports"
   ]
  },
  {
   "cell_type": "code",
   "execution_count": 1,
   "metadata": {},
   "outputs": [
    {
     "name": "stdout",
     "output_type": "stream",
     "text": [
      "poo\n"
     ]
    }
   ],
   "source": [
    "from dotenv import load_dotenv\n",
    "import os\n",
    "\n",
    "load_dotenv()\n",
    "test = os.getenv(\"OPENAI_API_KEY\")\n",
    "print(test)"
   ]
  },
  {
   "cell_type": "code",
   "execution_count": 10,
   "metadata": {},
   "outputs": [],
   "source": [
    "import sys\n",
    "\n",
    "sys.path.append('../src')"
   ]
  },
  {
   "cell_type": "markdown",
   "metadata": {},
   "source": [
    "## Start with using full Translation Agent"
   ]
  },
  {
   "cell_type": "code",
   "execution_count": 11,
   "metadata": {},
   "outputs": [
    {
     "name": "stdout",
     "output_type": "stream",
     "text": [
      "sk-proj-nEUgqSCHQnYVxlWfQZNqT3BlbkFJNcQwJl3TolOlJNOIDq8D\n"
     ]
    }
   ],
   "source": [
    "import translation_agent as ta"
   ]
  },
  {
   "cell_type": "markdown",
   "metadata": {},
   "source": [
    "Source the original sample texts"
   ]
  },
  {
   "cell_type": "code",
   "execution_count": 12,
   "metadata": {},
   "outputs": [],
   "source": [
    "script_dir = os.path.dirname(os.path.abspath(''))\n",
    "relative_path = 'examples/sample-texts/sample-short1.txt'\n",
    "full_dir = os.path.join(script_dir, relative_path)"
   ]
  },
  {
   "cell_type": "code",
   "execution_count": 13,
   "metadata": {},
   "outputs": [
    {
     "data": {
      "text/plain": [
       "\"Last week, I spoke about AI and regulation at the U.S. Capitol at an event that was attended by legislative and business leaders. I’m encouraged by the progress the open source community has made fending off regulations that would have stifled innovation. But opponents of open source are continuing to shift their arguments, with the latest worries centering on open source's impact on national security. I hope we’ll all keep protecting open source!\\n\\nBased on my conversations with legislators, I’m encouraged by the progress the U.S. federal government has made getting a realistic grasp of AI’s risks. To be clear, guardrails are needed. But they should be applied to AI applications, not to general-purpose AI technology.\\n\""
      ]
     },
     "execution_count": 13,
     "metadata": {},
     "output_type": "execute_result"
    }
   ],
   "source": [
    "with open(full_dir, encoding='utf-8') as f:\n",
    "    source_text = f.read()\n",
    "\n",
    "source_text"
   ]
  },
  {
   "cell_type": "markdown",
   "metadata": {},
   "source": [
    "Define the source_lang, target_lang and country."
   ]
  },
  {
   "cell_type": "code",
   "execution_count": 14,
   "metadata": {},
   "outputs": [],
   "source": [
    "source_lang = \"English\"\n",
    "target_lang = \"Spanish\"\n",
    "country = \"Mexico\""
   ]
  },
  {
   "cell_type": "markdown",
   "metadata": {},
   "source": [
    "Execute the translation agent."
   ]
  },
  {
   "cell_type": "code",
   "execution_count": 15,
   "metadata": {},
   "outputs": [
    {
     "name": "stderr",
     "output_type": "stream",
     "text": [
      "ic| num_tokens_in_text: 142\n",
      "ic| 'Translating text as single chunk'\n"
     ]
    },
    {
     "data": {
      "text/plain": [
       "'La semana pasada, di una charla sobre la inteligencia artificial (IA) y la regulación en el Capitolio de EE. UU. en un evento al que asistieron líderes legislativos y empresariales. Me alienta el progreso realizado por la comunidad de código abierto para evitar regulaciones que habrían sofocado la innovación. Sin embargo, los opositores del código abierto continúan adaptando sus argumentos, con las preocupaciones más recientes centradas en el impacto del código abierto en la seguridad nacional. ¡Espero que todos continuemos defendiendo el código abierto!\\n\\nBasándome en mis conversaciones con los legisladores, me alienta el progreso que ha hecho el gobierno federal de EE. UU. logrando una comprensión realista de los riesgos de la IA. Para ser claro, se necesitan salvaguardias. Sin embargo, estas salvaguardias deberían dirigirse a las aplicaciones específicas de IA, no a la tecnología de IA de propósito general.'"
      ]
     },
     "execution_count": 15,
     "metadata": {},
     "output_type": "execute_result"
    }
   ],
   "source": [
    "translation = ta.translate(\n",
    "    source_lang=source_lang,\n",
    "    target_lang=target_lang,\n",
    "    source_text=source_text,\n",
    "    country=country\n",
    ")\n",
    "translation"
   ]
  },
  {
   "cell_type": "markdown",
   "metadata": {},
   "source": [
    "## Playing around with individual agent calls"
   ]
  },
  {
   "cell_type": "code",
   "execution_count": null,
   "metadata": {},
   "outputs": [],
   "source": [
    "def get_completion_new(\n",
    "    prompt: str,\n",
    "    stage: str,\n",
    "    system_message: str = \"You are a helpful assistant.\",\n",
    "    model: str = \"gpt-4-turbo\",\n",
    "    temperature: float = 0.3,\n",
    "    json_mode: bool = False,\n",
    ") -> Union[str, dict]:\n",
    "    response_format = {\n",
    "        'type': 'json_object'\n",
    "    } if json_mode else None\n",
    "    response = client.chat.completions.create(\n",
    "        model=model,\n",
    "        temperature=temperature,\n",
    "        top_p=1,\n",
    "        response_format=reponse_format,\n",
    "        messages=[\n",
    "            {'role': 'system', 'content': system_message},\n",
    "            {'role': 'user', 'content': prompt}\n",
    "        ]\n",
    "    )\n",
    "    return response.choices[0].message.content"
   ]
  },
  {
   "cell_type": "code",
   "execution_count": 16,
   "metadata": {},
   "outputs": [],
   "source": [
    "from translation_agent.utils import get_completion"
   ]
  },
  {
   "cell_type": "code",
   "execution_count": 17,
   "metadata": {},
   "outputs": [
    {
     "data": {
      "text/plain": [
       "'La semana pasada, hablé sobre la IA y la regulación en el Capitolio de EE. UU. en un evento al que asistieron líderes legislativos y empresariales. Me alienta el progreso que ha hecho la comunidad de código abierto para evitar regulaciones que habrían sofocado la innovación. Sin embargo, los opositores del código abierto continúan cambiando sus argumentos, con las últimas preocupaciones centradas en el impacto del código abierto en la seguridad nacional. ¡Espero que todos sigamos protegiendo el código abierto!\\n\\nBasado en mis conversaciones con los legisladores, me alienta el progreso que ha hecho el gobierno federal de EE. UU. en obtener una comprensión realista de los riesgos de la IA. Para ser claro, se necesitan salvaguardias. Pero estas deberían aplicarse a las aplicaciones de IA, no a la tecnología de IA de propósito general.'"
      ]
     },
     "execution_count": 17,
     "metadata": {},
     "output_type": "execute_result"
    }
   ],
   "source": [
    "\n",
    "system_message = f\"You are an expert linguist, specializing in translation from {source_lang} to {target_lang}.\"\n",
    "\n",
    "translation_prompt = f\"\"\"This is an {source_lang} to {target_lang} translation, please provide the {target_lang} translation for this text. \\\n",
    "Do not provide any explanations or text apart from the translation.\n",
    "{source_lang}: {source_text}\n",
    "\n",
    "{target_lang}:\"\"\"\n",
    "\n",
    "prompt = translation_prompt.format(source_text=source_text)\n",
    "\n",
    "translation = get_completion(prompt, stage=\"initial\", system_message=system_message)\n",
    "translation"
   ]
  }
 ],
 "metadata": {
  "kernelspec": {
   "display_name": ".venv",
   "language": "python",
   "name": "python3"
  },
  "language_info": {
   "codemirror_mode": {
    "name": "ipython",
    "version": 3
   },
   "file_extension": ".py",
   "mimetype": "text/x-python",
   "name": "python",
   "nbconvert_exporter": "python",
   "pygments_lexer": "ipython3",
   "version": "3.10.12"
  }
 },
 "nbformat": 4,
 "nbformat_minor": 2
}
